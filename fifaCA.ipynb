{
  "nbformat": 4,
  "nbformat_minor": 0,
  "metadata": {
    "colab": {
      "provenance": [],
      "authorship_tag": "ABX9TyO9qdX8FCVZFKUcL2ZEys0v",
      "include_colab_link": true
    },
    "kernelspec": {
      "name": "python3",
      "display_name": "Python 3"
    },
    "language_info": {
      "name": "python"
    }
  },
  "cells": [
    {
      "cell_type": "markdown",
      "metadata": {
        "id": "view-in-github",
        "colab_type": "text"
      },
      "source": [
        "<a href=\"https://colab.research.google.com/github/Francesfahey/BigData/blob/main/fifaCA.ipynb\" target=\"_parent\"><img src=\"https://colab.research.google.com/assets/colab-badge.svg\" alt=\"Open In Colab\"/></a>"
      ]
    },
    {
      "cell_type": "code",
      "execution_count": null,
      "metadata": {
        "colab": {
          "base_uri": "https://localhost:8080/"
        },
        "id": "1c8ub0f5ed5x",
        "outputId": "8e489d7a-f933-4c8e-b530-a5f11e436e3f"
      },
      "outputs": [
        {
          "output_type": "stream",
          "name": "stdout",
          "text": [
            "                           name   rating  position   height    foot   rare  \\\n",
            "id                                                                           \n",
            "1001             GÃ¡bor KirÃ¡ly       69        GK      191   Right      0   \n",
            "100143             Frederik Boi       65         M      184   Right      0   \n",
            "100264          Tomasz Szewczuk       57         A      185   Right      0   \n",
            "100325   Steeve Joseph-Reinette       63         D      180    Left      0   \n",
            "100326             Kamel Chafni       72         M      181   Right      0   \n",
            "\n",
            "        pace  shooting  passing  dribbling  defending  heading  diving  \\\n",
            "id                                                                       \n",
            "1001                                                                70   \n",
            "100143    61        65       63         59         62       62           \n",
            "100264    65        54       43         53         55       74           \n",
            "100325    68        38       51         46         64       71           \n",
            "100326    75        64       67         72         57       66           \n",
            "\n",
            "        handling  kicking  reflexes  speed   positioning  \n",
            "id                                                        \n",
            "1001          66       63        74     35          66.0  \n",
            "100143                                               NaN  \n",
            "100264                                               NaN  \n",
            "100325                                               NaN  \n",
            "100326                                               NaN  \n"
          ]
        }
      ],
      "source": [
        "import pandas as pd\n",
        "fifa_df = pd.read_excel('fifa.xlsx', index_col=0)\n",
        "print(fifa_df.head())\n"
      ]
    }
  ]
}